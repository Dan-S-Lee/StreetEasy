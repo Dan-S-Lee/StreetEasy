{
 "cells": [
  {
   "cell_type": "code",
   "execution_count": 26,
   "metadata": {},
   "outputs": [],
   "source": [
    "import pandas as pd\n",
    "import matplotlib.pyplot as plt\n",
    "import seaborn as sns"
   ]
  },
  {
   "cell_type": "code",
   "execution_count": 6,
   "metadata": {},
   "outputs": [],
   "source": [
    "data = pd.read_csv('cleaned_df.csv')\n",
    "data.drop(data.columns.values[0], axis = 1, inplace = True)\n",
    "data = data.fillna('No Info')"
   ]
  },
  {
   "cell_type": "code",
   "execution_count": 7,
   "metadata": {
    "scrolled": true
   },
   "outputs": [
    {
     "data": {
      "text/html": [
       "<div>\n",
       "<style scoped>\n",
       "    .dataframe tbody tr th:only-of-type {\n",
       "        vertical-align: middle;\n",
       "    }\n",
       "\n",
       "    .dataframe tbody tr th {\n",
       "        vertical-align: top;\n",
       "    }\n",
       "\n",
       "    .dataframe thead th {\n",
       "        text-align: right;\n",
       "    }\n",
       "</style>\n",
       "<table border=\"1\" class=\"dataframe\">\n",
       "  <thead>\n",
       "    <tr style=\"text-align: right;\">\n",
       "      <th></th>\n",
       "      <th>file_name</th>\n",
       "      <th>title</th>\n",
       "      <th>address</th>\n",
       "      <th>desc</th>\n",
       "      <th>url</th>\n",
       "      <th>coord</th>\n",
       "      <th>state</th>\n",
       "      <th>price</th>\n",
       "      <th>rooms</th>\n",
       "      <th>beds</th>\n",
       "      <th>...</th>\n",
       "      <th>View: City</th>\n",
       "      <th>Washer/Dryer In-Unit</th>\n",
       "      <th>Board Approval Required</th>\n",
       "      <th>Roof Deck</th>\n",
       "      <th>Gym</th>\n",
       "      <th>Private Roof Deck</th>\n",
       "      <th>state_code</th>\n",
       "      <th>latitude</th>\n",
       "      <th>longitude</th>\n",
       "      <th>days</th>\n",
       "    </tr>\n",
       "  </thead>\n",
       "  <tbody>\n",
       "    <tr>\n",
       "      <th>0</th>\n",
       "      <td>10.html</td>\n",
       "      <td>For Rent: 74 Clarke Ave. in Jersey City</td>\n",
       "      <td>74 Clarke Avenue #22E</td>\n",
       "      <td>['74 CLARKE AVENUE #22E is a rental unit in Je...</td>\n",
       "      <td>['https://streeteasy.com/building/74-clarke-av...</td>\n",
       "      <td>['', ' ']</td>\n",
       "      <td>['US-NJ']</td>\n",
       "      <td>1749</td>\n",
       "      <td>2</td>\n",
       "      <td>3</td>\n",
       "      <td>...</td>\n",
       "      <td>0</td>\n",
       "      <td>0</td>\n",
       "      <td>0</td>\n",
       "      <td>0</td>\n",
       "      <td>0</td>\n",
       "      <td>0</td>\n",
       "      <td>NJ</td>\n",
       "      <td>No Info</td>\n",
       "      <td></td>\n",
       "      <td>No Info</td>\n",
       "    </tr>\n",
       "    <tr>\n",
       "      <th>1</th>\n",
       "      <td>100.html</td>\n",
       "      <td>For Rent: 1214 5th Ave. in Upper Carnegie Hill</td>\n",
       "      <td>1214 5th Avenue #29B</td>\n",
       "      <td>['1214 5th Ave #29B is a rental unit in Upper ...</td>\n",
       "      <td>['https://streeteasy.com/building/1214-fifth-a...</td>\n",
       "      <td>['40.79140091', ' -73.95240021']</td>\n",
       "      <td>['US-NY']</td>\n",
       "      <td>5030</td>\n",
       "      <td>3</td>\n",
       "      <td>1</td>\n",
       "      <td>...</td>\n",
       "      <td>0</td>\n",
       "      <td>0</td>\n",
       "      <td>0</td>\n",
       "      <td>1</td>\n",
       "      <td>1</td>\n",
       "      <td>0</td>\n",
       "      <td>NY</td>\n",
       "      <td>40.79140091</td>\n",
       "      <td>-73.95240021</td>\n",
       "      <td>9</td>\n",
       "    </tr>\n",
       "    <tr>\n",
       "      <th>2</th>\n",
       "      <td>1000.html</td>\n",
       "      <td>For Rent: 3333 Henry Hudson Parkway in Riverdale</td>\n",
       "      <td>3333 Henry Hudson Parkway #18A</td>\n",
       "      <td>['3333 Henry Hudson Parkway #18A is a rental u...</td>\n",
       "      <td>['https://streeteasy.com/building/3333-henry-h...</td>\n",
       "      <td>['40.88499832', ' -73.9151001']</td>\n",
       "      <td>['US-NY']</td>\n",
       "      <td>4195</td>\n",
       "      <td>4</td>\n",
       "      <td>2</td>\n",
       "      <td>...</td>\n",
       "      <td>0</td>\n",
       "      <td>0</td>\n",
       "      <td>0</td>\n",
       "      <td>0</td>\n",
       "      <td>1</td>\n",
       "      <td>0</td>\n",
       "      <td>NY</td>\n",
       "      <td>40.88499832</td>\n",
       "      <td>-73.9151001</td>\n",
       "      <td>No Info</td>\n",
       "    </tr>\n",
       "    <tr>\n",
       "      <th>3</th>\n",
       "      <td>10000.html</td>\n",
       "      <td>For Rent: 44 South Oxford St. in Fort Greene</td>\n",
       "      <td>44 South Oxford Street #2R</td>\n",
       "      <td>['44 SOUTH OXFORD STREET #2R is a rental unit ...</td>\n",
       "      <td>['https://streeteasy.com/building/44-south-oxf...</td>\n",
       "      <td>['40.68832267', ' -73.97415708']</td>\n",
       "      <td>['US-NY']</td>\n",
       "      <td>3000</td>\n",
       "      <td>3</td>\n",
       "      <td>1</td>\n",
       "      <td>...</td>\n",
       "      <td>0</td>\n",
       "      <td>0</td>\n",
       "      <td>0</td>\n",
       "      <td>0</td>\n",
       "      <td>1</td>\n",
       "      <td>0</td>\n",
       "      <td>NY</td>\n",
       "      <td>40.68832267</td>\n",
       "      <td>-73.97415708</td>\n",
       "      <td>No Info</td>\n",
       "    </tr>\n",
       "    <tr>\n",
       "      <th>4</th>\n",
       "      <td>10001.html</td>\n",
       "      <td>For Rent: 25 West 68th St. in Lincoln Square</td>\n",
       "      <td>25 West 68th Street #6D</td>\n",
       "      <td>['25 WEST 68 STREET #6D is a rental unit in Li...</td>\n",
       "      <td>['https://streeteasy.com/building/25-west-68-s...</td>\n",
       "      <td>['40.77435248', ' -73.97889675']</td>\n",
       "      <td>['US-NY']</td>\n",
       "      <td>4400</td>\n",
       "      <td>3</td>\n",
       "      <td>1</td>\n",
       "      <td>...</td>\n",
       "      <td>0</td>\n",
       "      <td>0</td>\n",
       "      <td>0</td>\n",
       "      <td>0</td>\n",
       "      <td>0</td>\n",
       "      <td>0</td>\n",
       "      <td>NY</td>\n",
       "      <td>40.77435248</td>\n",
       "      <td>-73.97889675</td>\n",
       "      <td>No Info</td>\n",
       "    </tr>\n",
       "  </tbody>\n",
       "</table>\n",
       "<p>5 rows × 85 columns</p>\n",
       "</div>"
      ],
      "text/plain": [
       "    file_name                                             title  \\\n",
       "0     10.html           For Rent: 74 Clarke Ave. in Jersey City   \n",
       "1    100.html    For Rent: 1214 5th Ave. in Upper Carnegie Hill   \n",
       "2   1000.html  For Rent: 3333 Henry Hudson Parkway in Riverdale   \n",
       "3  10000.html      For Rent: 44 South Oxford St. in Fort Greene   \n",
       "4  10001.html      For Rent: 25 West 68th St. in Lincoln Square   \n",
       "\n",
       "                          address  \\\n",
       "0           74 Clarke Avenue #22E   \n",
       "1            1214 5th Avenue #29B   \n",
       "2  3333 Henry Hudson Parkway #18A   \n",
       "3      44 South Oxford Street #2R   \n",
       "4         25 West 68th Street #6D   \n",
       "\n",
       "                                                desc  \\\n",
       "0  ['74 CLARKE AVENUE #22E is a rental unit in Je...   \n",
       "1  ['1214 5th Ave #29B is a rental unit in Upper ...   \n",
       "2  ['3333 Henry Hudson Parkway #18A is a rental u...   \n",
       "3  ['44 SOUTH OXFORD STREET #2R is a rental unit ...   \n",
       "4  ['25 WEST 68 STREET #6D is a rental unit in Li...   \n",
       "\n",
       "                                                 url  \\\n",
       "0  ['https://streeteasy.com/building/74-clarke-av...   \n",
       "1  ['https://streeteasy.com/building/1214-fifth-a...   \n",
       "2  ['https://streeteasy.com/building/3333-henry-h...   \n",
       "3  ['https://streeteasy.com/building/44-south-oxf...   \n",
       "4  ['https://streeteasy.com/building/25-west-68-s...   \n",
       "\n",
       "                              coord      state price rooms beds  ...  \\\n",
       "0                         ['', ' ']  ['US-NJ']  1749     2    3  ...   \n",
       "1  ['40.79140091', ' -73.95240021']  ['US-NY']  5030     3    1  ...   \n",
       "2   ['40.88499832', ' -73.9151001']  ['US-NY']  4195     4    2  ...   \n",
       "3  ['40.68832267', ' -73.97415708']  ['US-NY']  3000     3    1  ...   \n",
       "4  ['40.77435248', ' -73.97889675']  ['US-NY']  4400     3    1  ...   \n",
       "\n",
       "  View: City Washer/Dryer In-Unit Board Approval Required Roof Deck Gym  \\\n",
       "0          0                    0                       0         0   0   \n",
       "1          0                    0                       0         1   1   \n",
       "2          0                    0                       0         0   1   \n",
       "3          0                    0                       0         0   1   \n",
       "4          0                    0                       0         0   0   \n",
       "\n",
       "  Private Roof Deck state_code     latitude      longitude     days  \n",
       "0                 0         NJ      No Info                 No Info  \n",
       "1                 0         NY  40.79140091   -73.95240021        9  \n",
       "2                 0         NY  40.88499832    -73.9151001  No Info  \n",
       "3                 0         NY  40.68832267   -73.97415708  No Info  \n",
       "4                 0         NY  40.77435248   -73.97889675  No Info  \n",
       "\n",
       "[5 rows x 85 columns]"
      ]
     },
     "execution_count": 7,
     "metadata": {},
     "output_type": "execute_result"
    }
   ],
   "source": [
    "data.head()"
   ]
  },
  {
   "cell_type": "code",
   "execution_count": 15,
   "metadata": {},
   "outputs": [],
   "source": [
    "data['rooms'] = data['rooms'].replace('No Info', 0)"
   ]
  },
  {
   "cell_type": "code",
   "execution_count": 48,
   "metadata": {},
   "outputs": [],
   "source": [
    "data['beds'] = data['beds'].replace('No Info', 0)\n",
    "data['beds'] = data['beds'].astype(int)"
   ]
  },
  {
   "cell_type": "code",
   "execution_count": 49,
   "metadata": {},
   "outputs": [],
   "source": [
    "beds_df = data['beds'].value_counts()\n",
    "beds_df.index = beds_df.index.astype(int)\n",
    "beds_df = beds_df.sort_index()"
   ]
  },
  {
   "cell_type": "code",
   "execution_count": 50,
   "metadata": {},
   "outputs": [
    {
     "data": {
      "text/plain": [
       "<matplotlib.axes._subplots.AxesSubplot at 0x1fc9db76108>"
      ]
     },
     "execution_count": 50,
     "metadata": {},
     "output_type": "execute_result"
    },
    {
     "data": {
      "image/png": "[encoded data removed]",
      "text/plain": [
       "<Figure size 432x288 with 1 Axes>"
      ]
     },
     "metadata": {
      "needs_background": "light"
     },
     "output_type": "display_data"
    }
   ],
   "source": [
    "beds_df.plot.barh()"
   ]
  },
  {
   "cell_type": "code",
   "execution_count": 57,
   "metadata": {},
   "outputs": [
    {
     "data": {
      "image/png": "[encoded data removed]",
      "text/plain": [
       "<Figure size 1080x1080 with 1 Axes>"
      ]
     },
     "metadata": {
      "needs_background": "light"
     },
     "output_type": "display_data"
    }
   ],
   "source": [
    "fig, ax = plt.subplots(figsize = (15,15))\n",
    "g1 = sns.countplot(x = 'beds', hue = 'bath', data = data, ax = ax)"
   ]
  },
  {
   "cell_type": "code",
   "execution_count": 80,
   "metadata": {},
   "outputs": [],
   "source": [
    "n_df = data.groupby(['Neighborhood','beds', 'bath']).count()['price']"
   ]
  },
  {
   "cell_type": "code",
   "execution_count": 81,
   "metadata": {},
   "outputs": [
    {
     "name": "stdout",
     "output_type": "stream",
     "text": [
      "Neighborhood  beds  bath\n",
      "Annadale      1     1         1\n",
      "Arverne       2     1         2\n",
      "Astoria       0     1        23\n",
      "              1     1       105\n",
      "                    3         1\n",
      "                           ... \n",
      "Yorkville     4     3         1\n",
      "                    3.5       1\n",
      "                    4         1\n",
      "                    4.5       1\n",
      "                    5.5       1\n",
      "Name: price, Length: 1732, dtype: int64\n"
     ]
    }
   ],
   "source": [
    "print(n_df)"
   ]
  },
  {
   "cell_type": "code",
   "execution_count": null,
   "metadata": {},
   "outputs": [],
   "source": []
  }
 ],
 "metadata": {
  "kernelspec": {
   "display_name": "Python 3",
   "language": "python",
   "name": "python3"
  },
  "language_info": {
   "codemirror_mode": {
    "name": "ipython",
    "version": 3
   },
   "file_extension": ".py",
   "mimetype": "text/x-python",
   "name": "python",
   "nbconvert_exporter": "python",
   "pygments_lexer": "ipython3",
   "version": "3.7.6"
  }
 },
 "nbformat": 4,
 "nbformat_minor": 4
}
