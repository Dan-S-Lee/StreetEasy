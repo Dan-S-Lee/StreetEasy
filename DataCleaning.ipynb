{
 "cells": [
  {
   "cell_type": "code",
   "execution_count": 1,
   "metadata": {},
   "outputs": [],
   "source": [
    "import pandas as pd\n",
    "import re\n",
    "from nltk.corpus import words"
   ]
  },
  {
   "cell_type": "code",
   "execution_count": 2,
   "metadata": {},
   "outputs": [],
   "source": [
    "data = pd.read_csv('listings_df.csv')"
   ]
  },
  {
   "cell_type": "code",
   "execution_count": 3,
   "metadata": {},
   "outputs": [],
   "source": [
    "#drop residual index from csv\n",
    "data.drop(data.columns.values[0], axis = 1, inplace = True)\n",
    "data = data[data.notnull()]\n",
    "data = data.fillna('No Info')"
   ]
  },
  {
   "cell_type": "code",
   "execution_count": 4,
   "metadata": {},
   "outputs": [],
   "source": [
    "#function to get numbers from string\n",
    "def get_nums(cell):\n",
    "    match = re.search('[0-9.,]+', cell)\n",
    "    if match:\n",
    "        return match.group()\n",
    "    else:\n",
    "        return 'No Info'"
   ]
  },
  {
   "cell_type": "code",
   "execution_count": 5,
   "metadata": {},
   "outputs": [],
   "source": [
    "num_list = ['rooms', 'beds', 'bath', 'sqft', 'price/ft']\n",
    "for col in num_list:\n",
    "    data[col] = data[col].apply(get_nums)"
   ]
  },
  {
   "cell_type": "code",
   "execution_count": 6,
   "metadata": {},
   "outputs": [],
   "source": [
    "#characters to remove from list of items\n",
    "remove_list = ['[', ']', \"'\"]"
   ]
  },
  {
   "cell_type": "code",
   "execution_count": 7,
   "metadata": {},
   "outputs": [],
   "source": [
    "amenities_list = []\n",
    "\n",
    "unique_amenities = set()\n",
    "max_len = 0"
   ]
  },
  {
   "cell_type": "code",
   "execution_count": 8,
   "metadata": {},
   "outputs": [],
   "source": [
    "for pack in data['amenities'].values.tolist():\n",
    "    new_pack = pack\n",
    "    for char in remove_list:\n",
    "        new_pack = new_pack.replace(char, '')\n",
    "    unpack = new_pack.split(',')\n",
    "    unpack = [item.strip() for item in unpack if item.strip() and'google' not in item]\n",
    "    \n",
    "    max_len = max(max_len, len(unpack))\n",
    "    for item in unpack:\n",
    "        unique_amenities.add(item)"
   ]
  },
  {
   "cell_type": "code",
   "execution_count": 9,
   "metadata": {},
   "outputs": [],
   "source": [
    "for item in unique_amenities:\n",
    "    if not 'NYC Storm' in item:\n",
    "        amenities_list.append(item)"
   ]
  },
  {
   "cell_type": "code",
   "execution_count": 10,
   "metadata": {},
   "outputs": [],
   "source": [
    "for item in amenities_list:\n",
    "        data[item] = data.apply(lambda x: item in x['amenities'], axis = 1)"
   ]
  },
  {
   "cell_type": "code",
   "execution_count": 11,
   "metadata": {},
   "outputs": [],
   "source": [
    "data[amenities_list] = data[amenities_list].astype(int)"
   ]
  },
  {
   "cell_type": "code",
   "execution_count": 12,
   "metadata": {},
   "outputs": [],
   "source": [
    "data['price'] = data['price'].apply(lambda x: x.replace(',', ''))"
   ]
  },
  {
   "cell_type": "code",
   "execution_count": 13,
   "metadata": {},
   "outputs": [],
   "source": [
    "for char in remove_list: \n",
    "    data['coord'] = data['coord'].str.replace(char, '')"
   ]
  },
  {
   "cell_type": "code",
   "execution_count": 14,
   "metadata": {},
   "outputs": [],
   "source": [
    "data['coord'] = data['coord'].str.split(',')"
   ]
  },
  {
   "cell_type": "code",
   "execution_count": 15,
   "metadata": {},
   "outputs": [],
   "source": [
    "data['state_code'] = data['state'].apply(lambda x: x[5:7])"
   ]
  },
  {
   "cell_type": "code",
   "execution_count": 16,
   "metadata": {},
   "outputs": [],
   "source": [
    "data['latitude'] = data['coord'].apply(lambda x: x[0] if len(x) > 1 else 'No Info')\n",
    "data['longitude'] = data['coord'].apply(lambda x: x[1] if len(x) > 1 else 'No Info')"
   ]
  },
  {
   "cell_type": "code",
   "execution_count": 17,
   "metadata": {},
   "outputs": [],
   "source": [
    "mapping_df = pd.read_csv('neighborhoods_grouped.csv')\n",
    "map_dict = dict(zip(mapping_df['old'], mapping_df['new']))"
   ]
  },
  {
   "cell_type": "code",
   "execution_count": 18,
   "metadata": {},
   "outputs": [],
   "source": [
    "data['neighborhood'] = data['Neighborhood'].replace(map_dict)"
   ]
  },
  {
   "cell_type": "code",
   "execution_count": 19,
   "metadata": {},
   "outputs": [],
   "source": [
    "word_set = set()\n",
    "word_checker = set(words.words())\n",
    "for desc in data['desc']:\n",
    "    cleaned = desc\n",
    "    for char in remove_list: \n",
    "        cleaned = cleaned.replace(char, '')\n",
    "    split_str = cleaned.split()\n",
    "    for word in split_str:\n",
    "        if word in word_checker:\n",
    "            word_set.add(word)"
   ]
  },
  {
   "cell_type": "code",
   "execution_count": 20,
   "metadata": {
    "scrolled": true
   },
   "outputs": [
    {
     "data": {
      "text/plain": [
       "['file_name',\n",
       " 'title',\n",
       " 'address',\n",
       " 'desc',\n",
       " 'url',\n",
       " 'coord',\n",
       " 'state',\n",
       " 'price',\n",
       " 'rooms',\n",
       " 'beds',\n",
       " 'bath',\n",
       " 'sqft',\n",
       " 'price/ft',\n",
       " 'Neighborhood',\n",
       " 'details',\n",
       " 'amenities',\n",
       " 'subway',\n",
       " 'days on market',\n",
       " 'availibility',\n",
       " 'Valet Parking',\n",
       " 'Roof Rights',\n",
       " 'Doorman',\n",
       " 'Part-time Doorman',\n",
       " 'Live-in Super',\n",
       " 'Fireplace: Decorative',\n",
       " 'Fireplace: Wood',\n",
       " 'Pied-a-Terre Allowed',\n",
       " 'Laundry in Building',\n",
       " 'Terrace',\n",
       " 'View: City',\n",
       " 'Guarantors Accepted',\n",
       " 'Garden',\n",
       " 'Pets Allowed',\n",
       " 'Parking Available',\n",
       " 'Wheelchair Access',\n",
       " 'Valet',\n",
       " 'View: Garden',\n",
       " 'Gym',\n",
       " 'Waterview',\n",
       " 'Cold Storage',\n",
       " 'Cats and Dogs Allowed',\n",
       " 'Central Air Conditioning',\n",
       " 'Green Building',\n",
       " 'Board Approval Required',\n",
       " 'Cats Only - No Dogs',\n",
       " 'Smoke-free',\n",
       " 'Balcony',\n",
       " 'Concierge',\n",
       " 'Fireplace',\n",
       " 'Co-purchase Allowed',\n",
       " 'Dishwasher',\n",
       " '\"Childrens Playroom\"',\n",
       " 'Package Room',\n",
       " 'Swimming Pool',\n",
       " 'Gifts Allowed',\n",
       " 'Courtyard',\n",
       " 'Locker/Cage',\n",
       " 'Storage Available',\n",
       " 'Sublet',\n",
       " 'Parents Buying Allowed',\n",
       " 'Furnished',\n",
       " 'Private Roof Deck',\n",
       " 'Deck',\n",
       " 'Patio',\n",
       " 'Community Recreation Facilities',\n",
       " 'Waterfront',\n",
       " 'Bike Room',\n",
       " 'Media Room',\n",
       " 'Fireplace: Gas',\n",
       " 'Elevator',\n",
       " 'Hardwood Floors',\n",
       " 'View: Skyline',\n",
       " 'Roof Deck',\n",
       " 'View: Park',\n",
       " 'Hot Tub',\n",
       " 'Full-time Doorman',\n",
       " 'Sublets Allowed',\n",
       " 'Virtual Doorman',\n",
       " 'Loft',\n",
       " 'Washer/Dryer In-Unit',\n",
       " 'Guarantors Allowed',\n",
       " 'Garage Parking',\n",
       " 'state_code',\n",
       " 'latitude',\n",
       " 'longitude',\n",
       " 'neighborhood']"
      ]
     },
     "execution_count": 20,
     "metadata": {},
     "output_type": "execute_result"
    }
   ],
   "source": [
    "data.columns.values.tolist()"
   ]
  },
  {
   "cell_type": "code",
   "execution_count": 21,
   "metadata": {},
   "outputs": [],
   "source": [
    "data['days'] = data['days on market'].str.split('\\n').apply(lambda x: x[-2].strip() if len(x) > 2 else 'No Info')"
   ]
  },
  {
   "cell_type": "code",
   "execution_count": 22,
   "metadata": {},
   "outputs": [],
   "source": [
    "data['days'] = data['days'].str.split(' ').apply(lambda x: x[0] if len(x) > 2 else 'No Info')"
   ]
  },
  {
   "cell_type": "code",
   "execution_count": 23,
   "metadata": {},
   "outputs": [
    {
     "data": {
      "text/html": [
       "<div>\n",
       "<style scoped>\n",
       "    .dataframe tbody tr th:only-of-type {\n",
       "        vertical-align: middle;\n",
       "    }\n",
       "\n",
       "    .dataframe tbody tr th {\n",
       "        vertical-align: top;\n",
       "    }\n",
       "\n",
       "    .dataframe thead th {\n",
       "        text-align: right;\n",
       "    }\n",
       "</style>\n",
       "<table border=\"1\" class=\"dataframe\">\n",
       "  <thead>\n",
       "    <tr style=\"text-align: right;\">\n",
       "      <th></th>\n",
       "      <th>file_name</th>\n",
       "      <th>title</th>\n",
       "      <th>address</th>\n",
       "      <th>desc</th>\n",
       "      <th>url</th>\n",
       "      <th>coord</th>\n",
       "      <th>state</th>\n",
       "      <th>price</th>\n",
       "      <th>rooms</th>\n",
       "      <th>beds</th>\n",
       "      <th>...</th>\n",
       "      <th>Virtual Doorman</th>\n",
       "      <th>Loft</th>\n",
       "      <th>Washer/Dryer In-Unit</th>\n",
       "      <th>Guarantors Allowed</th>\n",
       "      <th>Garage Parking</th>\n",
       "      <th>state_code</th>\n",
       "      <th>latitude</th>\n",
       "      <th>longitude</th>\n",
       "      <th>neighborhood</th>\n",
       "      <th>days</th>\n",
       "    </tr>\n",
       "  </thead>\n",
       "  <tbody>\n",
       "    <tr>\n",
       "      <th>0</th>\n",
       "      <td>10.html</td>\n",
       "      <td>For Rent: 74 Clarke Ave. in Jersey City</td>\n",
       "      <td>74 Clarke Avenue #22E</td>\n",
       "      <td>['74 CLARKE AVENUE #22E is a rental unit in Je...</td>\n",
       "      <td>['https://streeteasy.com/building/74-clarke-av...</td>\n",
       "      <td>[,  ]</td>\n",
       "      <td>['US-NJ']</td>\n",
       "      <td>1749</td>\n",
       "      <td>2</td>\n",
       "      <td>3</td>\n",
       "      <td>...</td>\n",
       "      <td>0</td>\n",
       "      <td>0</td>\n",
       "      <td>0</td>\n",
       "      <td>0</td>\n",
       "      <td>0</td>\n",
       "      <td>NJ</td>\n",
       "      <td></td>\n",
       "      <td></td>\n",
       "      <td>NJ</td>\n",
       "      <td>No Info</td>\n",
       "    </tr>\n",
       "    <tr>\n",
       "      <th>1</th>\n",
       "      <td>100.html</td>\n",
       "      <td>For Rent: 1214 5th Ave. in Upper Carnegie Hill</td>\n",
       "      <td>1214 5th Avenue #29B</td>\n",
       "      <td>['1214 5th Ave #29B is a rental unit in Upper ...</td>\n",
       "      <td>['https://streeteasy.com/building/1214-fifth-a...</td>\n",
       "      <td>[40.79140091,  -73.95240021]</td>\n",
       "      <td>['US-NY']</td>\n",
       "      <td>5030</td>\n",
       "      <td>3</td>\n",
       "      <td>1</td>\n",
       "      <td>...</td>\n",
       "      <td>0</td>\n",
       "      <td>0</td>\n",
       "      <td>0</td>\n",
       "      <td>0</td>\n",
       "      <td>1</td>\n",
       "      <td>NY</td>\n",
       "      <td>40.79140091</td>\n",
       "      <td>-73.95240021</td>\n",
       "      <td>Upper East Side</td>\n",
       "      <td>9</td>\n",
       "    </tr>\n",
       "    <tr>\n",
       "      <th>2</th>\n",
       "      <td>1000.html</td>\n",
       "      <td>For Rent: 3333 Henry Hudson Parkway in Riverdale</td>\n",
       "      <td>3333 Henry Hudson Parkway #18A</td>\n",
       "      <td>['3333 Henry Hudson Parkway #18A is a rental u...</td>\n",
       "      <td>['https://streeteasy.com/building/3333-henry-h...</td>\n",
       "      <td>[40.88499832,  -73.9151001]</td>\n",
       "      <td>['US-NY']</td>\n",
       "      <td>4195</td>\n",
       "      <td>4</td>\n",
       "      <td>2</td>\n",
       "      <td>...</td>\n",
       "      <td>0</td>\n",
       "      <td>0</td>\n",
       "      <td>0</td>\n",
       "      <td>0</td>\n",
       "      <td>1</td>\n",
       "      <td>NY</td>\n",
       "      <td>40.88499832</td>\n",
       "      <td>-73.9151001</td>\n",
       "      <td>Riverdale</td>\n",
       "      <td>No Info</td>\n",
       "    </tr>\n",
       "    <tr>\n",
       "      <th>3</th>\n",
       "      <td>10000.html</td>\n",
       "      <td>For Rent: 44 South Oxford St. in Fort Greene</td>\n",
       "      <td>44 South Oxford Street #2R</td>\n",
       "      <td>['44 SOUTH OXFORD STREET #2R is a rental unit ...</td>\n",
       "      <td>['https://streeteasy.com/building/44-south-oxf...</td>\n",
       "      <td>[40.68832267,  -73.97415708]</td>\n",
       "      <td>['US-NY']</td>\n",
       "      <td>3000</td>\n",
       "      <td>3</td>\n",
       "      <td>1</td>\n",
       "      <td>...</td>\n",
       "      <td>0</td>\n",
       "      <td>0</td>\n",
       "      <td>0</td>\n",
       "      <td>0</td>\n",
       "      <td>0</td>\n",
       "      <td>NY</td>\n",
       "      <td>40.68832267</td>\n",
       "      <td>-73.97415708</td>\n",
       "      <td>Fort Greene</td>\n",
       "      <td>No Info</td>\n",
       "    </tr>\n",
       "    <tr>\n",
       "      <th>4</th>\n",
       "      <td>10001.html</td>\n",
       "      <td>For Rent: 25 West 68th St. in Lincoln Square</td>\n",
       "      <td>25 West 68th Street #6D</td>\n",
       "      <td>['25 WEST 68 STREET #6D is a rental unit in Li...</td>\n",
       "      <td>['https://streeteasy.com/building/25-west-68-s...</td>\n",
       "      <td>[40.77435248,  -73.97889675]</td>\n",
       "      <td>['US-NY']</td>\n",
       "      <td>4400</td>\n",
       "      <td>3</td>\n",
       "      <td>1</td>\n",
       "      <td>...</td>\n",
       "      <td>0</td>\n",
       "      <td>0</td>\n",
       "      <td>0</td>\n",
       "      <td>0</td>\n",
       "      <td>0</td>\n",
       "      <td>NY</td>\n",
       "      <td>40.77435248</td>\n",
       "      <td>-73.97889675</td>\n",
       "      <td>Upper West Side</td>\n",
       "      <td>No Info</td>\n",
       "    </tr>\n",
       "  </tbody>\n",
       "</table>\n",
       "<p>5 rows × 87 columns</p>\n",
       "</div>"
      ],
      "text/plain": [
       "    file_name                                             title  \\\n",
       "0     10.html           For Rent: 74 Clarke Ave. in Jersey City   \n",
       "1    100.html    For Rent: 1214 5th Ave. in Upper Carnegie Hill   \n",
       "2   1000.html  For Rent: 3333 Henry Hudson Parkway in Riverdale   \n",
       "3  10000.html      For Rent: 44 South Oxford St. in Fort Greene   \n",
       "4  10001.html      For Rent: 25 West 68th St. in Lincoln Square   \n",
       "\n",
       "                          address  \\\n",
       "0           74 Clarke Avenue #22E   \n",
       "1            1214 5th Avenue #29B   \n",
       "2  3333 Henry Hudson Parkway #18A   \n",
       "3      44 South Oxford Street #2R   \n",
       "4         25 West 68th Street #6D   \n",
       "\n",
       "                                                desc  \\\n",
       "0  ['74 CLARKE AVENUE #22E is a rental unit in Je...   \n",
       "1  ['1214 5th Ave #29B is a rental unit in Upper ...   \n",
       "2  ['3333 Henry Hudson Parkway #18A is a rental u...   \n",
       "3  ['44 SOUTH OXFORD STREET #2R is a rental unit ...   \n",
       "4  ['25 WEST 68 STREET #6D is a rental unit in Li...   \n",
       "\n",
       "                                                 url  \\\n",
       "0  ['https://streeteasy.com/building/74-clarke-av...   \n",
       "1  ['https://streeteasy.com/building/1214-fifth-a...   \n",
       "2  ['https://streeteasy.com/building/3333-henry-h...   \n",
       "3  ['https://streeteasy.com/building/44-south-oxf...   \n",
       "4  ['https://streeteasy.com/building/25-west-68-s...   \n",
       "\n",
       "                          coord      state price rooms beds  ...  \\\n",
       "0                         [,  ]  ['US-NJ']  1749     2    3  ...   \n",
       "1  [40.79140091,  -73.95240021]  ['US-NY']  5030     3    1  ...   \n",
       "2   [40.88499832,  -73.9151001]  ['US-NY']  4195     4    2  ...   \n",
       "3  [40.68832267,  -73.97415708]  ['US-NY']  3000     3    1  ...   \n",
       "4  [40.77435248,  -73.97889675]  ['US-NY']  4400     3    1  ...   \n",
       "\n",
       "  Virtual Doorman Loft Washer/Dryer In-Unit Guarantors Allowed Garage Parking  \\\n",
       "0               0    0                    0                  0              0   \n",
       "1               0    0                    0                  0              1   \n",
       "2               0    0                    0                  0              1   \n",
       "3               0    0                    0                  0              0   \n",
       "4               0    0                    0                  0              0   \n",
       "\n",
       "  state_code     latitude      longitude     neighborhood     days  \n",
       "0         NJ                                           NJ  No Info  \n",
       "1         NY  40.79140091   -73.95240021  Upper East Side        9  \n",
       "2         NY  40.88499832    -73.9151001        Riverdale  No Info  \n",
       "3         NY  40.68832267   -73.97415708      Fort Greene  No Info  \n",
       "4         NY  40.77435248   -73.97889675  Upper West Side  No Info  \n",
       "\n",
       "[5 rows x 87 columns]"
      ]
     },
     "execution_count": 23,
     "metadata": {},
     "output_type": "execute_result"
    }
   ],
   "source": [
    "data.head()"
   ]
  },
  {
   "cell_type": "code",
   "execution_count": 25,
   "metadata": {},
   "outputs": [],
   "source": [
    "data.to_csv('cleaned_df.csv')"
   ]
  },
  {
   "cell_type": "code",
   "execution_count": 26,
   "metadata": {},
   "outputs": [],
   "source": [
    "data['sqft'] = data['sqft'].apply(lambda x: x.replace(',', ''))"
   ]
  },
  {
   "cell_type": "code",
   "execution_count": 27,
   "metadata": {},
   "outputs": [],
   "source": [
    "import ast"
   ]
  },
  {
   "cell_type": "code",
   "execution_count": 29,
   "metadata": {},
   "outputs": [],
   "source": [
    "data['subway_list'] = data['subway'].apply(ast.literal_eval)"
   ]
  },
  {
   "cell_type": "code",
   "execution_count": 39,
   "metadata": {},
   "outputs": [],
   "source": [
    "max_len = 0\n",
    "for sub_list in data['subway_list']:\n",
    "    if len(sub_list) > max_len:\n",
    "        max_len = len(sub_list)"
   ]
  },
  {
   "cell_type": "code",
   "execution_count": 45,
   "metadata": {},
   "outputs": [],
   "source": [
    "for c in range(1,6):\n",
    "    data['station_' + str(c)] = 0"
   ]
  },
  {
   "cell_type": "code",
   "execution_count": 44,
   "metadata": {},
   "outputs": [
    {
     "ename": "ValueError",
     "evalue": "Must have equal len keys and value when setting with an iterable",
     "output_type": "error",
     "traceback": [
      "\u001b[1;31m---------------------------------------------------------------------------\u001b[0m",
      "\u001b[1;31mValueError\u001b[0m                                Traceback (most recent call last)",
      "\u001b[1;32m<ipython-input-44-6cf7677b6a39>\u001b[0m in \u001b[0;36m<module>\u001b[1;34m\u001b[0m\n\u001b[0;32m      1\u001b[0m \u001b[1;32mfor\u001b[0m \u001b[0mi\u001b[0m\u001b[1;33m,\u001b[0m \u001b[0ml\u001b[0m \u001b[1;32min\u001b[0m \u001b[0mdata\u001b[0m\u001b[1;33m[\u001b[0m\u001b[1;34m'subway_list'\u001b[0m\u001b[1;33m]\u001b[0m\u001b[1;33m.\u001b[0m\u001b[0miteritems\u001b[0m\u001b[1;33m(\u001b[0m\u001b[1;33m)\u001b[0m\u001b[1;33m:\u001b[0m\u001b[1;33m\u001b[0m\u001b[1;33m\u001b[0m\u001b[0m\n\u001b[0;32m      2\u001b[0m     \u001b[1;32mfor\u001b[0m \u001b[0mind\u001b[0m\u001b[1;33m,\u001b[0m \u001b[0msub_dict\u001b[0m \u001b[1;32min\u001b[0m \u001b[0menumerate\u001b[0m\u001b[1;33m(\u001b[0m\u001b[0ml\u001b[0m\u001b[1;33m)\u001b[0m\u001b[1;33m:\u001b[0m\u001b[1;33m\u001b[0m\u001b[1;33m\u001b[0m\u001b[0m\n\u001b[1;32m----> 3\u001b[1;33m         \u001b[0mdata\u001b[0m\u001b[1;33m.\u001b[0m\u001b[0mloc\u001b[0m\u001b[1;33m[\u001b[0m\u001b[0mi\u001b[0m\u001b[1;33m,\u001b[0m \u001b[1;34m'station_'\u001b[0m \u001b[1;33m+\u001b[0m \u001b[0mstr\u001b[0m\u001b[1;33m(\u001b[0m\u001b[0mind\u001b[0m \u001b[1;33m+\u001b[0m \u001b[1;36m1\u001b[0m\u001b[1;33m)\u001b[0m\u001b[1;33m]\u001b[0m \u001b[1;33m=\u001b[0m \u001b[0msub_dict\u001b[0m\u001b[1;33m[\u001b[0m\u001b[1;34m'station'\u001b[0m\u001b[1;33m]\u001b[0m\u001b[1;33m\u001b[0m\u001b[1;33m\u001b[0m\u001b[0m\n\u001b[0m",
      "\u001b[1;32mC:\\ProgramData\\Anaconda3\\lib\\site-packages\\pandas\\core\\indexing.py\u001b[0m in \u001b[0;36m__setitem__\u001b[1;34m(self, key, value)\u001b[0m\n\u001b[0;32m    668\u001b[0m             \u001b[0mkey\u001b[0m \u001b[1;33m=\u001b[0m \u001b[0mcom\u001b[0m\u001b[1;33m.\u001b[0m\u001b[0mapply_if_callable\u001b[0m\u001b[1;33m(\u001b[0m\u001b[0mkey\u001b[0m\u001b[1;33m,\u001b[0m \u001b[0mself\u001b[0m\u001b[1;33m.\u001b[0m\u001b[0mobj\u001b[0m\u001b[1;33m)\u001b[0m\u001b[1;33m\u001b[0m\u001b[1;33m\u001b[0m\u001b[0m\n\u001b[0;32m    669\u001b[0m         \u001b[0mindexer\u001b[0m \u001b[1;33m=\u001b[0m \u001b[0mself\u001b[0m\u001b[1;33m.\u001b[0m\u001b[0m_get_setitem_indexer\u001b[0m\u001b[1;33m(\u001b[0m\u001b[0mkey\u001b[0m\u001b[1;33m)\u001b[0m\u001b[1;33m\u001b[0m\u001b[1;33m\u001b[0m\u001b[0m\n\u001b[1;32m--> 670\u001b[1;33m         \u001b[0mself\u001b[0m\u001b[1;33m.\u001b[0m\u001b[0m_setitem_with_indexer\u001b[0m\u001b[1;33m(\u001b[0m\u001b[0mindexer\u001b[0m\u001b[1;33m,\u001b[0m \u001b[0mvalue\u001b[0m\u001b[1;33m)\u001b[0m\u001b[1;33m\u001b[0m\u001b[1;33m\u001b[0m\u001b[0m\n\u001b[0m\u001b[0;32m    671\u001b[0m \u001b[1;33m\u001b[0m\u001b[0m\n\u001b[0;32m    672\u001b[0m     \u001b[1;32mdef\u001b[0m \u001b[0m_validate_key\u001b[0m\u001b[1;33m(\u001b[0m\u001b[0mself\u001b[0m\u001b[1;33m,\u001b[0m \u001b[0mkey\u001b[0m\u001b[1;33m,\u001b[0m \u001b[0maxis\u001b[0m\u001b[1;33m:\u001b[0m \u001b[0mint\u001b[0m\u001b[1;33m)\u001b[0m\u001b[1;33m:\u001b[0m\u001b[1;33m\u001b[0m\u001b[1;33m\u001b[0m\u001b[0m\n",
      "\u001b[1;32mC:\\ProgramData\\Anaconda3\\lib\\site-packages\\pandas\\core\\indexing.py\u001b[0m in \u001b[0;36m_setitem_with_indexer\u001b[1;34m(self, indexer, value)\u001b[0m\n\u001b[0;32m   1016\u001b[0m                     \u001b[1;32mif\u001b[0m \u001b[0mlen\u001b[0m\u001b[1;33m(\u001b[0m\u001b[0mlabels\u001b[0m\u001b[1;33m)\u001b[0m \u001b[1;33m!=\u001b[0m \u001b[0mlen\u001b[0m\u001b[1;33m(\u001b[0m\u001b[0mvalue\u001b[0m\u001b[1;33m)\u001b[0m\u001b[1;33m:\u001b[0m\u001b[1;33m\u001b[0m\u001b[1;33m\u001b[0m\u001b[0m\n\u001b[0;32m   1017\u001b[0m                         raise ValueError(\n\u001b[1;32m-> 1018\u001b[1;33m                             \u001b[1;34m\"Must have equal len keys and value \"\u001b[0m\u001b[1;33m\u001b[0m\u001b[1;33m\u001b[0m\u001b[0m\n\u001b[0m\u001b[0;32m   1019\u001b[0m                             \u001b[1;34m\"when setting with an iterable\"\u001b[0m\u001b[1;33m\u001b[0m\u001b[1;33m\u001b[0m\u001b[0m\n\u001b[0;32m   1020\u001b[0m                         )\n",
      "\u001b[1;31mValueError\u001b[0m: Must have equal len keys and value when setting with an iterable"
     ]
    }
   ],
   "source": [
    "for i, l in data['subway_list'].iteritems():\n",
    "    for ind, sub_dict in enumerate(l):\n",
    "        data.loc[i, 'station_' + str(ind + 1)] = sub_dict['station']"
   ]
  },
  {
   "cell_type": "code",
   "execution_count": null,
   "metadata": {},
   "outputs": [],
   "source": []
  }
 ],
 "metadata": {
  "kernelspec": {
   "display_name": "Python 3",
   "language": "python",
   "name": "python3"
  },
  "language_info": {
   "codemirror_mode": {
    "name": "ipython",
    "version": 3
   },
   "file_extension": ".py",
   "mimetype": "text/x-python",
   "name": "python",
   "nbconvert_exporter": "python",
   "pygments_lexer": "ipython3",
   "version": "3.7.6"
  }
 },
 "nbformat": 4,
 "nbformat_minor": 4
}
