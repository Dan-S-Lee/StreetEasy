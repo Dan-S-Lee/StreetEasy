{
 "cells": [
  {
   "cell_type": "code",
   "execution_count": 2,
   "metadata": {},
   "outputs": [],
   "source": [
    "import pandas as pd\n",
    "import numpy as np\n",
    "from bs4 import BeautifulSoup as bs\n",
    "import os\n",
    "import re"
   ]
  },
  {
   "cell_type": "code",
   "execution_count": 3,
   "metadata": {},
   "outputs": [],
   "source": [
    "html_list = [f for f in os.listdir('htmls/') if os.path.isfile(os.path.join('htmls', f))]"
   ]
  },
  {
   "cell_type": "code",
   "execution_count": 30,
   "metadata": {},
   "outputs": [],
   "source": [
    "html_string = open('htmls/' + html_list[10], 'r').read()"
   ]
  },
  {
   "cell_type": "code",
   "execution_count": 31,
   "metadata": {},
   "outputs": [],
   "source": [
    "soup = bs(html_string, 'lxml')"
   ]
  },
  {
   "cell_type": "code",
   "execution_count": 32,
   "metadata": {},
   "outputs": [],
   "source": [
    "selector = 'head > meta'"
   ]
  },
  {
   "cell_type": "markdown",
   "metadata": {},
   "source": [
    "Get meta title of webpage"
   ]
  },
  {
   "cell_type": "code",
   "execution_count": 33,
   "metadata": {},
   "outputs": [
    {
     "data": {
      "text/plain": [
       "'For Rent: 535 W 23rd St. in West Chelsea'"
      ]
     },
     "execution_count": 33,
     "metadata": {},
     "output_type": "execute_result"
    }
   ],
   "source": [
    "soup.find_all('meta', attrs={'name': 'title'})[0]['content']"
   ]
  },
  {
   "cell_type": "markdown",
   "metadata": {},
   "source": [
    "Get description"
   ]
  },
  {
   "cell_type": "code",
   "execution_count": 34,
   "metadata": {},
   "outputs": [
    {
     "data": {
      "text/plain": [
       "[<meta content=\"535 W 23rd St #S6M is a rental unit in West Chelsea, Manhattan priced at $4,895.\" property=\"og:description\"/>]"
      ]
     },
     "execution_count": 34,
     "metadata": {},
     "output_type": "execute_result"
    }
   ],
   "source": [
    "soup.find_all('meta', attrs={'property' : 'og:description'})"
   ]
  },
  {
   "cell_type": "markdown",
   "metadata": {},
   "source": [
    "Get URL"
   ]
  },
  {
   "cell_type": "code",
   "execution_count": 35,
   "metadata": {},
   "outputs": [
    {
     "data": {
      "text/plain": [
       "[<meta content=\"https://streeteasy.com/building/the-tate/s06m\" property=\"og:url\"/>]"
      ]
     },
     "execution_count": 35,
     "metadata": {},
     "output_type": "execute_result"
    }
   ],
   "source": [
    "soup.find_all('meta', attrs={'property' : 'og:url'})"
   ]
  },
  {
   "cell_type": "markdown",
   "metadata": {},
   "source": [
    "Get geographic meta data"
   ]
  },
  {
   "cell_type": "code",
   "execution_count": 36,
   "metadata": {},
   "outputs": [
    {
     "data": {
      "text/plain": [
       "[<meta content=\"40.74850082, -74.00530243\" name=\"ICBM\"/>]"
      ]
     },
     "execution_count": 36,
     "metadata": {},
     "output_type": "execute_result"
    }
   ],
   "source": [
    "soup.find_all('meta', attrs={'name' : 'ICBM'})"
   ]
  },
  {
   "cell_type": "code",
   "execution_count": 37,
   "metadata": {},
   "outputs": [
    {
     "data": {
      "text/plain": [
       "[<meta content=\"US-NY\" name=\"geo.region\"/>]"
      ]
     },
     "execution_count": 37,
     "metadata": {},
     "output_type": "execute_result"
    }
   ],
   "source": [
    "soup.find_all('meta', attrs={'name' : 'geo.region'})"
   ]
  },
  {
   "cell_type": "markdown",
   "metadata": {},
   "source": [
    "Get Main Listing Details"
   ]
  },
  {
   "cell_type": "code",
   "execution_count": 38,
   "metadata": {},
   "outputs": [
    {
     "data": {
      "text/plain": [
       "'https://streeteasy.com/building/the-tate'"
      ]
     },
     "execution_count": 38,
     "metadata": {},
     "output_type": "execute_result"
    }
   ],
   "source": [
    "soup.select('div.SiteBlock-menu > div > div > div > span > a')[0].attrs['href'] # main hyperlink"
   ]
  },
  {
   "cell_type": "code",
   "execution_count": 39,
   "metadata": {},
   "outputs": [
    {
     "data": {
      "text/plain": [
       "'\\n\\n535 W 23rd Street #S6M\\n\\n\\n  $4,895\\n  \\n    3 rooms\\n  \\n\\n    1 bed\\n  \\n\\n    1 bath\\n  \\n'"
      ]
     },
     "execution_count": 39,
     "metadata": {},
     "output_type": "execute_result"
    }
   ],
   "source": [
    "soup.select('div.SiteBlock-menu > div > div > div')[0].text"
   ]
  },
  {
   "cell_type": "code",
   "execution_count": 40,
   "metadata": {},
   "outputs": [
    {
     "data": {
      "text/plain": [
       "'4,895'"
      ]
     },
     "execution_count": 40,
     "metadata": {},
     "output_type": "execute_result"
    }
   ],
   "source": [
    "re.search('[0-9.,]+', soup.select('div.details > div.details_info_price > div.price')[0].text).group()"
   ]
  },
  {
   "cell_type": "code",
   "execution_count": 41,
   "metadata": {},
   "outputs": [
    {
     "data": {
      "text/plain": [
       "[]"
      ]
     },
     "execution_count": 41,
     "metadata": {},
     "output_type": "execute_result"
    }
   ],
   "source": [
    "soup.select('div.details > div.details_info_price > div.concessions > div > div > div > div') #promotional pricing?"
   ]
  },
  {
   "cell_type": "code",
   "execution_count": 42,
   "metadata": {},
   "outputs": [
    {
     "data": {
      "text/plain": [
       "[<span class=\"detail_cell first_detail_cell\">3 rooms</span>,\n",
       " <span class=\"detail_cell\">1 bed</span>,\n",
       " <span class=\"detail_cell last_detail_cell\">1 bath</span>,\n",
       " <span class=\"nobreak\"></span>,\n",
       " <span class=\"nobreak\">in <a href=\"https://streeteasy.com/for-rent/west-chelsea\">West Chelsea</a></span>]"
      ]
     },
     "execution_count": 42,
     "metadata": {},
     "output_type": "execute_result"
    }
   ],
   "source": [
    "soup.select('div.details_info > span')"
   ]
  },
  {
   "cell_type": "markdown",
   "metadata": {},
   "source": [
    "Get Amenities two parts, Highlights and Building Amenities"
   ]
  },
  {
   "cell_type": "code",
   "execution_count": 43,
   "metadata": {},
   "outputs": [
    {
     "data": {
      "text/plain": [
       "[<div class=\"Text\">\n",
       "                   Doorman\n",
       "                 </div>,\n",
       " <div class=\"Text\">\n",
       "                   Elevator\n",
       "                 </div>,\n",
       " <div class=\"Text\">\n",
       "                   Pets Allowed\n",
       "                 </div>,\n",
       " <div id=\"google_ads_iframe_/7449/Streeteasy/property_details/rent_general/rtt_main_p1_0__container__\" style=\"border: 0pt currentColor; border-image: none; width: 100%; height: auto; display: inline-block;\"><iframe data-google-container-id=\"1\" data-is-safeframe=\"true\" data-load-complete=\"true\" frameborder=\"0\" height=\"0\" id=\"google_ads_iframe_/7449/Streeteasy/property_details/rent_general/rtt_main_p1_0\" loading=\"eager\" marginheight=\"0\" marginwidth=\"0\" scrolling=\"no\" src=\"https://tpc.googlesyndication.com/safeframe/1-0-37/html/container.html\" style=\"border: 0px currentColor; border-image: none; vertical-align: bottom; min-width: 100%;\" title=\"3rd party ad content\" width=\"0\"></iframe></div>]"
      ]
     },
     "execution_count": 43,
     "metadata": {},
     "output_type": "execute_result"
    }
   ],
   "source": [
    "soup.select('section.DetailsPage-contentBlock > div.AmenitiesBlock > ul > li > div > div')"
   ]
  },
  {
   "cell_type": "code",
   "execution_count": 44,
   "metadata": {},
   "outputs": [
    {
     "data": {
      "text/plain": [
       "[<li class=\"AmenitiesBlock-item\">\n",
       "                   Bike Room\n",
       "               </li>,\n",
       " <li class=\"AmenitiesBlock-item\">\n",
       "                   Community Recreation Facilities\n",
       "               </li>,\n",
       " <li class=\"AmenitiesBlock-item\">\n",
       "                   Concierge\n",
       "               </li>,\n",
       " <li class=\"AmenitiesBlock-item\">\n",
       "                   Gym\n",
       "               </li>,\n",
       " <li class=\"AmenitiesBlock-item\">\n",
       "                   Laundry in Building\n",
       "               </li>,\n",
       " <li class=\"AmenitiesBlock-item\">\n",
       "                   Live-in Super\n",
       "               </li>,\n",
       " <li class=\"AmenitiesBlock-item\">\n",
       "                   Smoke-free\n",
       "               </li>,\n",
       " <li class=\"AmenitiesBlock-item\">\n",
       " </li>,\n",
       " <li class=\"AmenitiesBlock-item\">\n",
       " <div data-google-query-id=\"CM2QrpXKkugCFZMnhwod7eIPOw\" id=\"rtt_main_p1\" style=\"-ms-zoom: 1; opacity: 1;\">\n",
       " <div id=\"google_ads_iframe_/7449/Streeteasy/property_details/rent_general/rtt_main_p1_0__container__\" style=\"border: 0pt currentColor; border-image: none; width: 100%; height: auto; display: inline-block;\"><iframe data-google-container-id=\"1\" data-is-safeframe=\"true\" data-load-complete=\"true\" frameborder=\"0\" height=\"0\" id=\"google_ads_iframe_/7449/Streeteasy/property_details/rent_general/rtt_main_p1_0\" loading=\"eager\" marginheight=\"0\" marginwidth=\"0\" scrolling=\"no\" src=\"https://tpc.googlesyndication.com/safeframe/1-0-37/html/container.html\" style=\"border: 0px currentColor; border-image: none; vertical-align: bottom; min-width: 100%;\" title=\"3rd party ad content\" width=\"0\"></iframe></div></div>\n",
       " </li>,\n",
       " <li class=\"AmenitiesBlock-item\">\n",
       "                   Garden\n",
       "               </li>,\n",
       " <li class=\"AmenitiesBlock-item\">\n",
       "                   Patio\n",
       "               </li>,\n",
       " <li class=\"AmenitiesBlock-item\">\n",
       "                   Roof Deck\n",
       "               </li>]"
      ]
     },
     "execution_count": 44,
     "metadata": {},
     "output_type": "execute_result"
    }
   ],
   "source": [
    "soup.select('section.DetailsPage-contentBlock > div.AmenitiesBlock > ul > li.AmenitiesBlock-item')"
   ]
  },
  {
   "cell_type": "code",
   "execution_count": 45,
   "metadata": {},
   "outputs": [
    {
     "data": {
      "text/plain": [
       "'535 W 23rd Street #S6M'"
      ]
     },
     "execution_count": 45,
     "metadata": {},
     "output_type": "execute_result"
    }
   ],
   "source": [
    "soup.select('article.right-two-fifths > section > h1 > a')[0].text"
   ]
  },
  {
   "cell_type": "code",
   "execution_count": 46,
   "metadata": {},
   "outputs": [
    {
     "data": {
      "text/plain": [
       "[<span class=\"detail_cell first_detail_cell\">3 rooms</span>,\n",
       " <span class=\"detail_cell\">1 bed</span>,\n",
       " <span class=\"detail_cell last_detail_cell\">1 bath</span>,\n",
       " <span class=\"nobreak\"></span>,\n",
       " <span class=\"nobreak\">in <a href=\"https://streeteasy.com/for-rent/west-chelsea\">West Chelsea</a></span>]"
      ]
     },
     "execution_count": 46,
     "metadata": {},
     "output_type": "execute_result"
    }
   ],
   "source": [
    "soup.select('div.details_info > span')"
   ]
  },
  {
   "cell_type": "code",
   "execution_count": 47,
   "metadata": {},
   "outputs": [],
   "source": [
    "details = {}\n",
    "for tag in soup.select('div.details_info > span'):\n",
    "    if 'room' in tag.text: details['rooms'] = tag.text\n",
    "    if 'bed' in tag.text: details['beds'] = tag.text \n",
    "    if 'bath' in tag.text: details['bath'] = tag.text\n",
    "    if tag.text == 'in':\n",
    "        details['Neighborhood'] = tag.select('span > a')[0].attrs['href']"
   ]
  },
  {
   "cell_type": "code",
   "execution_count": 48,
   "metadata": {},
   "outputs": [
    {
     "data": {
      "text/plain": [
       "['Doorman', 'Elevator', 'Pets Allowed']"
      ]
     },
     "execution_count": 48,
     "metadata": {},
     "output_type": "execute_result"
    }
   ],
   "source": [
    "[tag.text.strip() for tag in soup.select('section.DetailsPage-contentBlock > div.AmenitiesBlock > ul > li > div > div.Text')]"
   ]
  },
  {
   "cell_type": "code",
   "execution_count": 49,
   "metadata": {},
   "outputs": [
    {
     "data": {
      "text/plain": [
       "['Bike Room',\n",
       " 'Community Recreation Facilities',\n",
       " 'Concierge',\n",
       " 'Gym',\n",
       " 'Laundry in Building',\n",
       " 'Live-in Super',\n",
       " 'Smoke-free',\n",
       " '',\n",
       " '',\n",
       " 'Garden',\n",
       " 'Patio',\n",
       " 'Roof Deck']"
      ]
     },
     "execution_count": 49,
     "metadata": {},
     "output_type": "execute_result"
    }
   ],
   "source": [
    "[tag.text.strip() for tag in soup.select('section.DetailsPage-contentBlock > div.AmenitiesBlock > ul > li.AmenitiesBlock-item')]"
   ]
  },
  {
   "cell_type": "code",
   "execution_count": 50,
   "metadata": {},
   "outputs": [
    {
     "data": {
      "text/plain": [
       "'West Chelsea'"
      ]
     },
     "execution_count": 50,
     "metadata": {},
     "output_type": "execute_result"
    }
   ],
   "source": [
    "soup.select('div.details_info > span.nobreak > a')[0].text"
   ]
  },
  {
   "cell_type": "code",
   "execution_count": 51,
   "metadata": {},
   "outputs": [
    {
     "data": {
      "text/plain": [
       "'Available Now'"
      ]
     },
     "execution_count": 51,
     "metadata": {},
     "output_type": "execute_result"
    }
   ],
   "source": [
    "soup.select('article.left-three-fifths > section > div > div > div')[0].text.strip()"
   ]
  },
  {
   "cell_type": "code",
   "execution_count": 52,
   "metadata": {},
   "outputs": [
    {
     "data": {
      "text/plain": [
       "[<div class=\"Vitals-data\">\n",
       "           Available Now\n",
       "       </div>,\n",
       " <div class=\"Vitals-data\">\n",
       "           72 Days\n",
       "         </div>,\n",
       " <div class=\"Vitals-data u-capitalize\" title=\"03/09/20\">\n",
       "         ?\n",
       "         $70\n",
       "         (1.4%)\n",
       "         2 days ago\n",
       "     </div>]"
      ]
     },
     "execution_count": 52,
     "metadata": {},
     "output_type": "execute_result"
    }
   ],
   "source": [
    "soup.select('article.left-three-fifths > section > div > div > div.Vitals-data')"
   ]
  },
  {
   "cell_type": "code",
   "execution_count": 65,
   "metadata": {},
   "outputs": [],
   "source": [
    "tags = soup.select('div.full > section > div.Nearby > div.Nearby-half > div.Nearby-transportation > ul > li.Nearby-transportationItem')"
   ]
  },
  {
   "cell_type": "code",
   "execution_count": 75,
   "metadata": {},
   "outputs": [],
   "source": [
    "subways_list = []\n",
    "\n",
    "for tag in tags:\n",
    "    lines_dict = {}\n",
    "    lines_dict['lines'] = [letter for letter in tag.text.strip().split('\\n') if len(letter) == 1]\n",
    "    lines_dict['distance'] = tag.select('span > b')[0].text\n",
    "    lines_dict['station'] = tag.select('span.Text')[0].text.strip().split('\\n')\n",
    "    subways_list.append(lines_dict)"
   ]
  },
  {
   "cell_type": "code",
   "execution_count": 76,
   "metadata": {},
   "outputs": [
    {
     "data": {
      "text/plain": [
       "[{'lines': ['C', 'E'], 'distance': '0.43 miles', 'station': 'at 23rd St  '},\n",
       " {'lines': ['A', 'C', 'E', 'L'],\n",
       "  'distance': '0.55 miles',\n",
       "  'station': 'at 14th St-8th Av  '},\n",
       " {'lines': ['1'], 'distance': '0.6 miles', 'station': 'at 28th St  '},\n",
       " {'lines': ['1'], 'distance': '0.6 miles', 'station': 'at 23rd St  '},\n",
       " {'lines': ['7'],\n",
       "  'distance': '0.62 miles',\n",
       "  'station': 'at 34th St - Hudson Yards  '}]"
      ]
     },
     "execution_count": 76,
     "metadata": {},
     "output_type": "execute_result"
    }
   ],
   "source": [
    "subways_list"
   ]
  },
  {
   "cell_type": "code",
   "execution_count": null,
   "metadata": {},
   "outputs": [],
   "source": []
  }
 ],
 "metadata": {
  "kernelspec": {
   "display_name": "Python 3",
   "language": "python",
   "name": "python3"
  },
  "language_info": {
   "codemirror_mode": {
    "name": "ipython",
    "version": 3
   },
   "file_extension": ".py",
   "mimetype": "text/x-python",
   "name": "python",
   "nbconvert_exporter": "python",
   "pygments_lexer": "ipython3",
   "version": "3.7.6"
  }
 },
 "nbformat": 4,
 "nbformat_minor": 4
}
